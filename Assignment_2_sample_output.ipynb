{
 "cells": [
  {
   "cell_type": "code",
   "execution_count": 1,
   "id": "7f639776",
   "metadata": {},
   "outputs": [],
   "source": [
    "import numpy as np"
   ]
  },
  {
   "cell_type": "markdown",
   "id": "4e9c3570",
   "metadata": {},
   "source": [
    "Generate a random 10 by 10 matrix with random integers chosen from [1,1000]"
   ]
  },
  {
   "cell_type": "code",
   "execution_count": 2,
   "id": "e4f4d6f4",
   "metadata": {},
   "outputs": [
    {
     "data": {
      "text/plain": [
       "array([[683, 825, 680,  45, 152, 168,  93, 188, 512, 980],\n",
       "       [286, 926, 339, 940, 424,  30, 166, 960, 454, 762],\n",
       "       [730, 353, 884, 483,  15, 252, 548, 777, 546, 595],\n",
       "       [513, 861, 805, 702, 803,  49, 990, 625, 555, 876],\n",
       "       [393,  17, 571, 316, 274, 169, 372, 940, 492, 646],\n",
       "       [320, 872, 440,  89, 217, 583, 296, 656, 391, 615],\n",
       "       [125, 802, 344, 233, 420,  71, 844, 410, 988, 894],\n",
       "       [238, 455, 972, 319, 861, 454, 382, 217, 373, 491],\n",
       "       [202,  20, 542, 204, 367, 863, 486, 857, 359, 313],\n",
       "       [156, 848, 834, 887, 204, 422, 132, 640, 257, 575]])"
      ]
     },
     "execution_count": 2,
     "metadata": {},
     "output_type": "execute_result"
    }
   ],
   "source": []
  },
  {
   "cell_type": "markdown",
   "id": "495b72c0",
   "metadata": {},
   "source": [
    "Use fancy indexing to return data located on the 2nd, 4th, 6th, and 8th column. The result should be a 10 by 4 matrix"
   ]
  },
  {
   "cell_type": "code",
   "execution_count": 3,
   "id": "d4fbdab9",
   "metadata": {},
   "outputs": [
    {
     "data": {
      "text/plain": [
       "array([[825,  45, 168, 188],\n",
       "       [926, 940,  30, 960],\n",
       "       [353, 483, 252, 777],\n",
       "       [861, 702,  49, 625],\n",
       "       [ 17, 316, 169, 940],\n",
       "       [872,  89, 583, 656],\n",
       "       [802, 233,  71, 410],\n",
       "       [455, 319, 454, 217],\n",
       "       [ 20, 204, 863, 857],\n",
       "       [848, 887, 422, 640]])"
      ]
     },
     "execution_count": 3,
     "metadata": {},
     "output_type": "execute_result"
    }
   ],
   "source": []
  },
  {
   "cell_type": "markdown",
   "id": "759b06cb",
   "metadata": {},
   "source": [
    "Use the 10 by 4 matrix received above to get its first row and then make it a column vector (size is 4 by 1)"
   ]
  },
  {
   "cell_type": "code",
   "execution_count": 4,
   "id": "7e0dbc3c",
   "metadata": {},
   "outputs": [
    {
     "data": {
      "text/plain": [
       "(4, 1)"
      ]
     },
     "execution_count": 4,
     "metadata": {},
     "output_type": "execute_result"
    }
   ],
   "source": []
  },
  {
   "cell_type": "markdown",
   "id": "c071a3ce",
   "metadata": {},
   "source": [
    "Get the second row of the matrix and make it a 1 by 4 row vector"
   ]
  },
  {
   "cell_type": "code",
   "execution_count": 5,
   "id": "aebfd50b",
   "metadata": {},
   "outputs": [
    {
     "data": {
      "text/plain": [
       "(1, 4)"
      ]
     },
     "execution_count": 5,
     "metadata": {},
     "output_type": "execute_result"
    }
   ],
   "source": []
  },
  {
   "cell_type": "markdown",
   "id": "f5937ea3",
   "metadata": {},
   "source": [
    "Multiple both vectors into a 4 by 4 matrix"
   ]
  },
  {
   "cell_type": "code",
   "execution_count": 6,
   "id": "ebc0dc0f",
   "metadata": {},
   "outputs": [
    {
     "data": {
      "text/plain": [
       "array([[763950, 775500,  24750, 792000],\n",
       "       [ 41670,  42300,   1350,  43200],\n",
       "       [155568, 157920,   5040, 161280],\n",
       "       [174088, 176720,   5640, 180480]])"
      ]
     },
     "execution_count": 6,
     "metadata": {},
     "output_type": "execute_result"
    }
   ],
   "source": []
  },
  {
   "cell_type": "markdown",
   "id": "679cd364",
   "metadata": {},
   "source": [
    "Suppose the following dictionary saves the information about the data submission with respect to the original 10 by 10 matrix: {‘Bob’:[0,3,7],’Alice’:[2,4,8],’Caro’:[1,9],’Dave’:[5,6]}. For example, Bob submitted the 1st, 4th, and 8th rows and Caro submitted the 2nd and 10th rows. Calculate the following items:\n",
    "\n",
    "a.\tThe mean of data submitted by Bob and Caro together"
   ]
  },
  {
   "cell_type": "code",
   "execution_count": 7,
   "id": "d544c459",
   "metadata": {},
   "outputs": [
    {
     "data": {
      "text/plain": [
       "522.18"
      ]
     },
     "execution_count": 7,
     "metadata": {},
     "output_type": "execute_result"
    }
   ],
   "source": []
  },
  {
   "cell_type": "markdown",
   "id": "4bf3279e",
   "metadata": {},
   "source": [
    "b.\tThe column-wise average of data submitted by Alice"
   ]
  },
  {
   "cell_type": "code",
   "execution_count": 8,
   "id": "7359531d",
   "metadata": {},
   "outputs": [
    {
     "data": {
      "text/plain": [
       "array([441.66666667, 130.        , 665.66666667, 334.33333333,\n",
       "       218.66666667, 428.        , 468.66666667, 858.        ,\n",
       "       465.66666667, 518.        ])"
      ]
     },
     "execution_count": 8,
     "metadata": {},
     "output_type": "execute_result"
    }
   ],
   "source": []
  },
  {
   "cell_type": "markdown",
   "id": "fa3b3388",
   "metadata": {},
   "source": [
    "c.\tData from Dave where they are greater than 500, if any"
   ]
  },
  {
   "cell_type": "code",
   "execution_count": 9,
   "id": "f4cf1149",
   "metadata": {},
   "outputs": [
    {
     "data": {
      "text/plain": [
       "array([872, 583, 656, 615, 802, 844, 988, 894])"
      ]
     },
     "execution_count": 9,
     "metadata": {},
     "output_type": "execute_result"
    }
   ],
   "source": []
  },
  {
   "cell_type": "markdown",
   "id": "6a5b6555",
   "metadata": {},
   "source": [
    "d.\tThe row-wise standard deviation of data submitted by Caro and Dave"
   ]
  },
  {
   "cell_type": "code",
   "execution_count": 10,
   "id": "bb650c4e",
   "metadata": {},
   "outputs": [
    {
     "data": {
      "text/plain": [
       "array([325.44555612, 285.2999299 , 222.30539805, 321.86874654])"
      ]
     },
     "execution_count": 10,
     "metadata": {},
     "output_type": "execute_result"
    }
   ],
   "source": []
  },
  {
   "cell_type": "markdown",
   "id": "87553b71",
   "metadata": {},
   "source": [
    "e.\tData from Bob where they are greater than their element-wise counterpart from Alice, if any"
   ]
  },
  {
   "cell_type": "code",
   "execution_count": 11,
   "id": "8a85ef28",
   "metadata": {},
   "outputs": [
    {
     "data": {
      "text/plain": [
       "array([[  0, 825,   0,   0, 152,   0,   0,   0,   0, 980],\n",
       "       [513, 861, 805, 702, 803,   0, 990,   0, 555, 876],\n",
       "       [238, 455, 972, 319, 861,   0,   0,   0, 373, 491]])"
      ]
     },
     "execution_count": 11,
     "metadata": {},
     "output_type": "execute_result"
    }
   ],
   "source": []
  }
 ],
 "metadata": {
  "kernelspec": {
   "display_name": "Python 3 (ipykernel)",
   "language": "python",
   "name": "python3"
  },
  "language_info": {
   "codemirror_mode": {
    "name": "ipython",
    "version": 3
   },
   "file_extension": ".py",
   "mimetype": "text/x-python",
   "name": "python",
   "nbconvert_exporter": "python",
   "pygments_lexer": "ipython3",
   "version": "3.9.12"
  }
 },
 "nbformat": 4,
 "nbformat_minor": 5
}
